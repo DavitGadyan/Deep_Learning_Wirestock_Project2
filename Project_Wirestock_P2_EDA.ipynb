{
 "cells": [
  {
   "cell_type": "code",
   "execution_count": 11,
   "metadata": {},
   "outputs": [],
   "source": [
    "import pandas as pd\n",
    "import matplotlib.pyplot as plt"
   ]
  },
  {
   "cell_type": "code",
   "execution_count": 8,
   "metadata": {},
   "outputs": [],
   "source": [
    "df = pd.read_csv(r'AUA1.csv',header=None,names=['Image_URL','Tag'])"
   ]
  },
  {
   "cell_type": "code",
   "execution_count": 9,
   "metadata": {},
   "outputs": [
    {
     "name": "stdout",
     "output_type": "stream",
     "text": [
      "<class 'pandas.core.frame.DataFrame'>\n",
      "RangeIndex: 6982315 entries, 0 to 6982314\n",
      "Data columns (total 2 columns):\n",
      "Image_URL    object\n",
      "Tag          object\n",
      "dtypes: object(2)\n",
      "memory usage: 106.5+ MB\n"
     ]
    }
   ],
   "source": [
    "df.info()"
   ]
  },
  {
   "cell_type": "code",
   "execution_count": 10,
   "metadata": {},
   "outputs": [
    {
     "data": {
      "text/html": [
       "<div>\n",
       "<style scoped>\n",
       "    .dataframe tbody tr th:only-of-type {\n",
       "        vertical-align: middle;\n",
       "    }\n",
       "\n",
       "    .dataframe tbody tr th {\n",
       "        vertical-align: top;\n",
       "    }\n",
       "\n",
       "    .dataframe thead th {\n",
       "        text-align: right;\n",
       "    }\n",
       "</style>\n",
       "<table border=\"1\" class=\"dataframe\">\n",
       "  <thead>\n",
       "    <tr style=\"text-align: right;\">\n",
       "      <th></th>\n",
       "      <th>Image_URL</th>\n",
       "      <th>Tag</th>\n",
       "    </tr>\n",
       "  </thead>\n",
       "  <tbody>\n",
       "    <tr>\n",
       "      <th>0</th>\n",
       "      <td>http://wirestock-prod.sfo2.digitaloceanspaces....</td>\n",
       "      <td>climb</td>\n",
       "    </tr>\n",
       "    <tr>\n",
       "      <th>1</th>\n",
       "      <td>http://wirestock-prod.sfo2.digitaloceanspaces....</td>\n",
       "      <td>climber</td>\n",
       "    </tr>\n",
       "    <tr>\n",
       "      <th>2</th>\n",
       "      <td>http://wirestock-prod.sfo2.digitaloceanspaces....</td>\n",
       "      <td>climbing</td>\n",
       "    </tr>\n",
       "    <tr>\n",
       "      <th>3</th>\n",
       "      <td>http://wirestock-prod.sfo2.digitaloceanspaces....</td>\n",
       "      <td>cold</td>\n",
       "    </tr>\n",
       "    <tr>\n",
       "      <th>4</th>\n",
       "      <td>http://wirestock-prod.sfo2.digitaloceanspaces....</td>\n",
       "      <td>equipment</td>\n",
       "    </tr>\n",
       "  </tbody>\n",
       "</table>\n",
       "</div>"
      ],
      "text/plain": [
       "                                           Image_URL        Tag\n",
       "0  http://wirestock-prod.sfo2.digitaloceanspaces....      climb\n",
       "1  http://wirestock-prod.sfo2.digitaloceanspaces....    climber\n",
       "2  http://wirestock-prod.sfo2.digitaloceanspaces....   climbing\n",
       "3  http://wirestock-prod.sfo2.digitaloceanspaces....       cold\n",
       "4  http://wirestock-prod.sfo2.digitaloceanspaces....  equipment"
      ]
     },
     "execution_count": 10,
     "metadata": {},
     "output_type": "execute_result"
    }
   ],
   "source": [
    "df.head()"
   ]
  },
  {
   "cell_type": "code",
   "execution_count": 18,
   "metadata": {},
   "outputs": [
    {
     "data": {
      "text/plain": [
       "199788"
      ]
     },
     "execution_count": 18,
     "metadata": {},
     "output_type": "execute_result"
    }
   ],
   "source": [
    "df.Image_URL.nunique()"
   ]
  },
  {
   "cell_type": "code",
   "execution_count": 39,
   "metadata": {},
   "outputs": [
    {
     "data": {
      "text/plain": [
       "3688"
      ]
     },
     "execution_count": 39,
     "metadata": {},
     "output_type": "execute_result"
    }
   ],
   "source": [
    "df.Tag.nunique()"
   ]
  },
  {
   "cell_type": "code",
   "execution_count": 17,
   "metadata": {},
   "outputs": [
    {
     "data": {
      "text/plain": [
       "background    112673\n",
       "nature         97730\n",
       "white          82904\n",
       "beautiful      78526\n",
       "travel         76611\n",
       "               ...  \n",
       "ITALY              1\n",
       "Ride               1\n",
       "ANIMAL             1\n",
       "Hot                1\n",
       "Cap                1\n",
       "Name: Tag, Length: 3688, dtype: int64"
      ]
     },
     "execution_count": 17,
     "metadata": {},
     "output_type": "execute_result"
    }
   ],
   "source": [
    "df.Tag.value_counts()"
   ]
  },
  {
   "cell_type": "code",
   "execution_count": 19,
   "metadata": {},
   "outputs": [
    {
     "data": {
      "text/plain": [
       "35.0"
      ]
     },
     "execution_count": 19,
     "metadata": {},
     "output_type": "execute_result"
    }
   ],
   "source": [
    "7000000/200000"
   ]
  },
  {
   "cell_type": "code",
   "execution_count": 38,
   "metadata": {},
   "outputs": [
    {
     "data": {
      "image/png": "[encoded data removed]",
      "text/plain": [
       "<Figure size 1080x720 with 1 Axes>"
      ]
     },
     "metadata": {
      "needs_background": "light"
     },
     "output_type": "display_data"
    }
   ],
   "source": [
    "plt.figure(figsize=(15,10))\n",
    "df.Tag.value_counts()[:30].plot(kind='bar')\n",
    "plt.xticks(rotation=45)\n",
    "plt.title('Top 30 tags')\n",
    "plt.show()"
   ]
  },
  {
   "cell_type": "code",
   "execution_count": 41,
   "metadata": {},
   "outputs": [
    {
     "data": {
      "text/plain": [
       "['background',\n",
       " 'nature',\n",
       " 'white',\n",
       " 'beautiful',\n",
       " 'travel',\n",
       " 'blue',\n",
       " 'sky',\n",
       " 'summer',\n",
       " 'green',\n",
       " 'landscape',\n",
       " 'outdoor',\n",
       " 'natural',\n",
       " 'view',\n",
       " 'water',\n",
       " 'tourism',\n",
       " 'beauty',\n",
       " 'tree',\n",
       " 'outdoors',\n",
       " 'closeup',\n",
       " 'design',\n",
       " 'color',\n",
       " 'architecture',\n",
       " 'old',\n",
       " 'scenic',\n",
       " 'building',\n",
       " 'light',\n",
       " 'park',\n",
       " 'red',\n",
       " 'city',\n",
       " 'isolated']"
      ]
     },
     "execution_count": 41,
     "metadata": {},
     "output_type": "execute_result"
    }
   ],
   "source": [
    "df.Tag.value_counts()[:30].index.tolist()"
   ]
  },
  {
   "cell_type": "code",
   "execution_count": 55,
   "metadata": {},
   "outputs": [
    {
     "data": {
      "text/plain": [
       "'http://wirestock-prod.sfo2.digitaloceanspaces.com/public/3357/3WHKvNs8iYrRLoMRAWMvcOVBT2XTsXbmm49k7sLM.jpeg'"
      ]
     },
     "execution_count": 55,
     "metadata": {},
     "output_type": "execute_result"
    }
   ],
   "source": [
    "df.iloc[1000000,0]"
   ]
  },
  {
   "cell_type": "code",
   "execution_count": 56,
   "metadata": {},
   "outputs": [
    {
     "data": {
      "text/plain": [
       "['sea',\n",
       " 'ocean',\n",
       " 'tropical',\n",
       " 'island',\n",
       " 'water',\n",
       " 'vacation',\n",
       " 'french',\n",
       " 'lagoon',\n",
       " 'beach',\n",
       " 'travel',\n",
       " 'nature',\n",
       " 'blue',\n",
       " 'paradise',\n",
       " 'pacific',\n",
       " 'exotic',\n",
       " 'summer',\n",
       " 'turquoise',\n",
       " 'sky',\n",
       " 'coast',\n",
       " 'holiday',\n",
       " 'resort',\n",
       " 'romantic',\n",
       " 'luxury',\n",
       " 'tourism',\n",
       " 'palm']"
      ]
     },
     "execution_count": 56,
     "metadata": {},
     "output_type": "execute_result"
    }
   ],
   "source": [
    "df.loc[df.Image_URL=='http://wirestock-prod.sfo2.digitaloceanspaces.com/public/3357/3WHKvNs8iYrRLoMRAWMvcOVBT2XTsXbmm49k7sLM.jpeg',:].Tag.tolist()"
   ]
  },
  {
   "cell_type": "code",
   "execution_count": null,
   "metadata": {},
   "outputs": [],
   "source": []
  }
 ],
 "metadata": {
  "kernelspec": {
   "display_name": "Python 3",
   "language": "python",
   "name": "python3"
  },
  "language_info": {
   "codemirror_mode": {
    "name": "ipython",
    "version": 3
   },
   "file_extension": ".py",
   "mimetype": "text/x-python",
   "name": "python",
   "nbconvert_exporter": "python",
   "pygments_lexer": "ipython3",
   "version": "3.7.4"
  }
 },
 "nbformat": 4,
 "nbformat_minor": 2
}
